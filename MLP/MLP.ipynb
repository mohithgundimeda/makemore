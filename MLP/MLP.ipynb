{
 "cells": [
  {
   "cell_type": "code",
   "execution_count": 45,
   "id": "94e98997-db04-4076-9a29-6d868e87f5fd",
   "metadata": {
    "tags": []
   },
   "outputs": [],
   "source": [
    "import torch\n",
    "import matplotlib.pyplot as plt\n",
    "import torch.nn.functional as F\n",
    "import numpy as np"
   ]
  },
  {
   "cell_type": "code",
   "execution_count": 46,
   "id": "bc2c0a9c-80e6-4dc7-9e62-34504d186474",
   "metadata": {
    "tags": []
   },
   "outputs": [],
   "source": [
    "data=open('Names.txt','r').read().splitlines()"
   ]
  },
  {
   "cell_type": "code",
   "execution_count": 47,
   "id": "e92aabc8-8b0c-4713-bc09-4d81436b0c78",
   "metadata": {
    "tags": []
   },
   "outputs": [
    {
     "data": {
      "text/plain": [
       "3668"
      ]
     },
     "execution_count": 47,
     "metadata": {},
     "output_type": "execute_result"
    }
   ],
   "source": [
    "len(data)"
   ]
  },
  {
   "cell_type": "code",
   "execution_count": 48,
   "id": "1d59793b-30ca-45da-8d29-983f288457cb",
   "metadata": {
    "tags": []
   },
   "outputs": [],
   "source": [
    "vocab=sorted(list(set(''.join(data))))"
   ]
  },
  {
   "cell_type": "code",
   "execution_count": 49,
   "id": "5946a8d9-7dae-4292-bf8f-6997eff37df0",
   "metadata": {
    "tags": []
   },
   "outputs": [],
   "source": [
    "stoi={s:i+1 for i,s in enumerate(vocab)}\n",
    "stoi['.']=0\n",
    "itos={i:s for s,i in stoi.items()}"
   ]
  },
  {
   "cell_type": "code",
   "execution_count": 50,
   "id": "e2613dd0-a871-40d0-b9c4-492d6fa23d97",
   "metadata": {
    "tags": []
   },
   "outputs": [
    {
     "data": {
      "text/plain": [
       "52"
      ]
     },
     "execution_count": 50,
     "metadata": {},
     "output_type": "execute_result"
    }
   ],
   "source": [
    "len(vocab)"
   ]
  },
  {
   "cell_type": "code",
   "execution_count": 51,
   "id": "3be4bbad-d6ff-45b7-88ee-2e62019a7590",
   "metadata": {
    "tags": []
   },
   "outputs": [],
   "source": [
    "C=torch.randn((len(vocab)+1,20),dtype=torch.float32)"
   ]
  },
  {
   "cell_type": "code",
   "execution_count": 52,
   "id": "e1852f0a-5826-404a-8f29-e345a1bcf11d",
   "metadata": {
    "tags": []
   },
   "outputs": [],
   "source": [
    "x=[]\n",
    "y=[]\n",
    "block_size=3\n",
    "for name in data:\n",
    "    context=[0]*block_size\n",
    "    for ch in name+'.':\n",
    "        x.append(context)\n",
    "        y.append(stoi[ch])\n",
    "        context=context[1:]+[stoi[ch]]\n",
    "        \n",
    "        \n",
    "x=torch.tensor(x)\n",
    "y=torch.tensor(y)"
   ]
  },
  {
   "cell_type": "code",
   "execution_count": 53,
   "id": "51578ed4-0cba-480b-b57c-3088ddc46093",
   "metadata": {
    "tags": []
   },
   "outputs": [
    {
     "data": {
      "text/plain": [
       "torch.Size([27125, 3])"
      ]
     },
     "execution_count": 53,
     "metadata": {},
     "output_type": "execute_result"
    }
   ],
   "source": [
    "x.shape"
   ]
  },
  {
   "cell_type": "code",
   "execution_count": 54,
   "id": "0d97bbbd-3f93-46e5-b986-72a897917485",
   "metadata": {
    "tags": []
   },
   "outputs": [],
   "source": [
    "emb=C[x]"
   ]
  },
  {
   "cell_type": "code",
   "execution_count": 55,
   "id": "9f303057-6683-4d1b-bf02-9fed91788268",
   "metadata": {
    "tags": []
   },
   "outputs": [
    {
     "data": {
      "text/plain": [
       "torch.Size([27125, 3, 20])"
      ]
     },
     "execution_count": 55,
     "metadata": {},
     "output_type": "execute_result"
    }
   ],
   "source": [
    "emb.shape"
   ]
  },
  {
   "cell_type": "code",
   "execution_count": 117,
   "id": "aa4d1bd7-f607-462d-b0e1-7b658da86201",
   "metadata": {
    "tags": []
   },
   "outputs": [],
   "source": [
    "w1=torch.randn((emb.shape[1]*emb.shape[2],200),dtype=torch.float32)\n",
    "b1=torch.randn(200,dtype=torch.float32)\n",
    "w2=torch.randn((200,len(vocab)+1),dtype=torch.float32)\n",
    "b2=torch.randn(len(vocab)+1,dtype=torch.float32)\n",
    "parameters=[w1,b1,w2,b2]"
   ]
  },
  {
   "cell_type": "code",
   "execution_count": 118,
   "id": "64cc066e-3859-4b71-be6b-1f25aa3affc5",
   "metadata": {
    "tags": []
   },
   "outputs": [],
   "source": [
    "for p in parameters:\n",
    "    p.requires_grad=True\n",
    "    p.grad=None"
   ]
  },
  {
   "cell_type": "code",
   "execution_count": null,
   "id": "f3ebb52a-122c-4396-95d2-17a708d2bbed",
   "metadata": {
    "tags": []
   },
   "outputs": [],
   "source": [
    "for i in range(200000):\n",
    "    #forwardpass\n",
    "    h1=torch.tanh(((emb.view(-1,emb.shape[1]*emb.shape[2])@w1)+b1))\n",
    "    logits=((h1@w2)+b2)\n",
    "    loss = F.cross_entropy(logits, y)\n",
    "\n",
    "    #backwardpass\n",
    "    loss.backward()\n",
    "    \n",
    "    #update\n",
    "    lr = 0.1 if i < 100000 else 0.01\n",
    "    for p in parameters:\n",
    "        p.data += -lr*p.grad\n",
    "\n",
    "print(loss)\n"
   ]
  },
  {
   "cell_type": "code",
   "execution_count": null,
   "id": "5c366847-d630-4a34-934a-509e9ac254fa",
   "metadata": {},
   "outputs": [],
   "source": []
  }
 ],
 "metadata": {
  "kernelspec": {
   "display_name": "Python 3 (ipykernel)",
   "language": "python",
   "name": "python3"
  },
  "language_info": {
   "codemirror_mode": {
    "name": "ipython",
    "version": 3
   },
   "file_extension": ".py",
   "mimetype": "text/x-python",
   "name": "python",
   "nbconvert_exporter": "python",
   "pygments_lexer": "ipython3",
   "version": "3.11.5"
  }
 },
 "nbformat": 4,
 "nbformat_minor": 5
}
