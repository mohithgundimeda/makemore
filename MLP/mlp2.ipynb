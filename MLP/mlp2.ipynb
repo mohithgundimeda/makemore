{
 "cells": [
  {
   "cell_type": "code",
   "execution_count": 1,
   "id": "3957ca5f-b535-4d09-982e-b016f99a4624",
   "metadata": {
    "tags": []
   },
   "outputs": [],
   "source": [
    "import torch\n",
    "import torch.nn.functional as F"
   ]
  },
  {
   "cell_type": "code",
   "execution_count": 2,
   "id": "03717589-47c2-4608-a0e2-f97a024a5687",
   "metadata": {
    "tags": []
   },
   "outputs": [],
   "source": [
    "data=open('Names.txt','r').read().splitlines()"
   ]
  },
  {
   "cell_type": "code",
   "execution_count": 3,
   "id": "9eaf11f8-2bb2-42b1-a3eb-4565e7198ae6",
   "metadata": {
    "tags": []
   },
   "outputs": [
    {
     "name": "stdout",
     "output_type": "stream",
     "text": [
      "Total Names: 3668\n"
     ]
    }
   ],
   "source": [
    "print(f'Total Names: {len(data)}')"
   ]
  },
  {
   "cell_type": "code",
   "execution_count": 4,
   "id": "276c27f6-f3c1-48ec-967a-907ff70373d7",
   "metadata": {
    "tags": []
   },
   "outputs": [],
   "source": [
    "vocab=sorted(list(set(''.join(data))))"
   ]
  },
  {
   "cell_type": "code",
   "execution_count": 5,
   "id": "0b68385b-03ed-414c-9f03-7032536f2c7e",
   "metadata": {
    "tags": []
   },
   "outputs": [
    {
     "name": "stdout",
     "output_type": "stream",
     "text": [
      "53 53\n"
     ]
    }
   ],
   "source": [
    "stoi={s:i+1 for i,s in enumerate(vocab)}\n",
    "stoi['.']=0\n",
    "itos={i:s for s,i in stoi.items()}\n",
    "print(len(stoi) , len(itos))"
   ]
  },
  {
   "cell_type": "code",
   "execution_count": 6,
   "id": "5f0915f1-3544-4c8d-a852-30649777456c",
   "metadata": {
    "tags": []
   },
   "outputs": [],
   "source": [
    "vocab_size=len(stoi)"
   ]
  },
  {
   "cell_type": "code",
   "execution_count": 7,
   "id": "f8ab32f1-0e5a-4caf-9de8-248e2771f113",
   "metadata": {
    "tags": []
   },
   "outputs": [],
   "source": [
    "block_size=3\n",
    "def build_dataset(dataset):\n",
    "    x,y=[],[]\n",
    "    context=[0]*block_size\n",
    "    for name in dataset:\n",
    "        for ch in name+'.':\n",
    "            x.append(context)\n",
    "            y.append(stoi[ch])\n",
    "            context=context[1:]+[stoi[ch]]\n",
    "    x = torch.tensor(x)\n",
    "    y = torch.tensor(y)\n",
    "    print(x.shape, y.shape)\n",
    "    return x, y"
   ]
  },
  {
   "cell_type": "code",
   "execution_count": 8,
   "id": "4c594a90-afb3-4585-8a22-b1b118683c11",
   "metadata": {
    "tags": []
   },
   "outputs": [
    {
     "name": "stdout",
     "output_type": "stream",
     "text": [
      "torch.Size([21589, 3]) torch.Size([21589])\n",
      "torch.Size([2769, 3]) torch.Size([2769])\n",
      "torch.Size([2767, 3]) torch.Size([2767])\n"
     ]
    }
   ],
   "source": [
    "n1=int(len(data)*0.8)\n",
    "n2=int(len(data)*0.9)\n",
    "\n",
    "Xtrain , Ytrain = build_dataset(data[:n1])\n",
    "Xval   , Yval = build_dataset(data[n1:n2])\n",
    "Xtest , Ytest = build_dataset(data[n2:])"
   ]
  },
  {
   "cell_type": "markdown",
   "id": "d65c6038-0c6d-48ae-8017-1939be0202d7",
   "metadata": {},
   "source": [
    "#Parameters"
   ]
  },
  {
   "cell_type": "code",
   "execution_count": 35,
   "id": "4a753381-c313-4cb3-b287-ff86b65d3ebe",
   "metadata": {
    "tags": []
   },
   "outputs": [
    {
     "name": "stdout",
     "output_type": "stream",
     "text": [
      "17783\n"
     ]
    }
   ],
   "source": [
    "n_embd = 10\n",
    "n_hidden = 200\n",
    "\n",
    "g = torch.Generator().manual_seed(2147483642)\n",
    "C  = torch.randn((vocab_size, n_embd),            generator=g)\n",
    "W1 = torch.randn((n_embd * block_size, n_hidden), generator=g) * (5/3)/((n_embd * block_size)**0.5)\n",
    "b1 = torch.randn(n_hidden,                        generator=g) * 0.1\n",
    "W2 = torch.randn((n_hidden, vocab_size),          generator=g) * 0.1\n",
    "b2 = torch.randn(vocab_size,                      generator=g) * 0.1\n",
    "\n",
    "\n",
    "bngain = torch.randn((1, n_hidden))*0.1 + 1.0\n",
    "bnbias = torch.randn((1, n_hidden))*0.1\n",
    "\n",
    "parameters = [C, W1, W2, b2,b1, bngain, bnbias]\n",
    "print(sum(p.nelement() for p in parameters))\n",
    "for p in parameters:\n",
    "    p.requires_grad = True"
   ]
  },
  {
   "cell_type": "markdown",
   "id": "57dc893f-23d0-409d-9a5e-1678c7827c5b",
   "metadata": {
    "tags": []
   },
   "source": [
    "#shapes"
   ]
  },
  {
   "cell_type": "code",
   "execution_count": 10,
   "id": "d5455164-7f00-41b7-af0a-aa37e79cf12b",
   "metadata": {
    "tags": []
   },
   "outputs": [
    {
     "name": "stdout",
     "output_type": "stream",
     "text": [
      "shape of w1: torch.Size([30, 200])\n",
      "shape of b1: torch.Size([200])\n",
      "shape of w2: torch.Size([200, 53])\n",
      "shape of b2: torch.Size([53])\n",
      "shape of bngain: torch.Size([1, 200])\n",
      "shape of bnbias: torch.Size([1, 200])\n"
     ]
    }
   ],
   "source": [
    "print(f'shape of w1: {W1.shape}')\n",
    "print(f'shape of b1: {b1.shape}')\n",
    "print(f'shape of w2: {W2.shape}')\n",
    "print(f'shape of b2: {b2.shape}')\n",
    "print(f'shape of bngain: {bngain.shape}')\n",
    "print(f'shape of bnbias: {bnbias.shape}')"
   ]
  },
  {
   "cell_type": "code",
   "execution_count": 11,
   "id": "a73962f7-2476-4cb6-8c84-04f240d4ae35",
   "metadata": {
    "tags": []
   },
   "outputs": [],
   "source": [
    "def common(value,t , vname):\n",
    "    common=torch.all(value==t.grad).item()\n",
    "    close=torch.allclose(value ,t.grad)\n",
    "    maxdiff = (value - t.grad).abs().max().item()\n",
    "    print(f'{vname:15s} all common:{ str(common):5s} | exactly common :{ str(close):5s} | maximum difference:{ maxdiff}')"
   ]
  },
  {
   "cell_type": "markdown",
   "id": "dbcf5190-0cee-4e34-ae4d-f64439e7df0a",
   "metadata": {},
   "source": [
    "Forwardpass\n"
   ]
  },
  {
   "cell_type": "code",
   "execution_count": 103,
   "id": "e1cc83fb-9f25-4249-b588-8d463a311287",
   "metadata": {
    "tags": []
   },
   "outputs": [],
   "source": [
    "batch_size = 32\n",
    "n = batch_size \n",
    "lossi = []\n",
    "iterations = 200000\n",
    "for i in range(iterations):\n",
    "    ix = torch.randint(0, Xtrain.shape[0], (batch_size,), generator=g)\n",
    "    Xb, Yb = Xtrain[ix], Ytrain[ix]\n",
    "    emb = C[Xb]\n",
    "    embcat = emb.view(emb.shape[0], -1)\n",
    "    \n",
    "    \n",
    "    # Linear layer 1\n",
    "    hprebn = embcat @ W1 + b1\n",
    "    \n",
    "    # BatchNorm layer\n",
    "    bnmeani = 1/n*hprebn.sum(0, keepdim=True)\n",
    "    bndiff = hprebn - bnmeani\n",
    "    bndiff2 = bndiff**2\n",
    "    bnvar = 1/(n-1)*(bndiff2).sum(0, keepdim=True)\n",
    "    bnvar_inv = (bnvar + 1e-5)**-0.5\n",
    "    bnraw = bndiff * bnvar_inv\n",
    "    hpreact = bngain * bnraw + bnbias\n",
    "    \n",
    "    # Non-linearity\n",
    "    h = torch.tanh(hpreact) # hidden layer\n",
    "    \n",
    "    # Linear layer 2\n",
    "    logits = h @ W2 + b2 # output layer\n",
    "    \n",
    "    # cross entropy loss (same as F.cross_entropy(logits, Yb))\n",
    "    logit_maxes = logits.max(1, keepdim=True).values\n",
    "    norm_logits = logits - logit_maxes # subtract max for numerical stability\n",
    "    counts = norm_logits.exp()\n",
    "    counts_sum = counts.sum(1, keepdims=True)\n",
    "    counts_sum_inv = counts_sum**-1\n",
    "    probs = counts * counts_sum_inv\n",
    "    logprobs = probs.log()\n",
    "    loss = -logprobs[range(n), Yb].mean()\n",
    "    lossi.append(loss)\n",
    "\n",
    "    # PyTorch backward pass\n",
    "    for p in parameters:\n",
    "        p.grad = None\n",
    "    for t in [logprobs, probs, counts, counts_sum, counts_sum_inv, # afaik there is no cleaner way\n",
    "        norm_logits, logit_maxes, logits, h, hpreact, bnraw,bnvar_inv, bnvar, bndiff2, bndiff, hprebn, bnmeani,embcat, emb]:\n",
    "         t.retain_grad()\n",
    "    loss.backward()\n",
    "\n",
    "#     lr = 0.1 if i < 100000 else 0.01 # step learning rate decay\n",
    "#     for p in parameters:\n",
    "#         p.data += -lr * p.grad\n",
    "\n",
    "#     if i%1000==0:\n",
    "#         print(lossi[-1])\n",
    "    break"
   ]
  },
  {
   "cell_type": "markdown",
   "id": "91c70fbd-0042-4129-86e6-4172375f3cb0",
   "metadata": {},
   "source": [
    "backward pass"
   ]
  },
  {
   "cell_type": "code",
   "execution_count": 105,
   "id": "7b79c018-4e89-4c29-a1dd-d581b03298e8",
   "metadata": {},
   "outputs": [
    {
     "name": "stdout",
     "output_type": "stream",
     "text": [
      "dlogprobs       all common:True  | exactly common :True  | maximum difference:0.0\n",
      "dprobs          all common:True  | exactly common :True  | maximum difference:0.0\n",
      "dcounts_sum_inv all common:True  | exactly common :True  | maximum difference:0.0\n",
      "dcounts         all common:True  | exactly common :True  | maximum difference:0.0\n",
      "dcounts_sum     all common:True  | exactly common :True  | maximum difference:0.0\n",
      "dnorm_logits    all common:True  | exactly common :True  | maximum difference:0.0\n",
      "dlogits         all common:True  | exactly common :True  | maximum difference:0.0\n",
      "dlogit_maxes    all common:True  | exactly common :True  | maximum difference:0.0\n",
      "dh              all common:True  | exactly common :True  | maximum difference:0.0\n",
      "dW2             all common:True  | exactly common :True  | maximum difference:0.0\n",
      "db2             all common:True  | exactly common :True  | maximum difference:0.0\n",
      "dhpreact        all common:True  | exactly common :True  | maximum difference:0.0\n",
      "dbnraw          all common:True  | exactly common :True  | maximum difference:0.0\n",
      "dbngain         all common:True  | exactly common :True  | maximum difference:0.0\n",
      "dbnbias         all common:True  | exactly common :True  | maximum difference:0.0\n",
      "dbnvar_inv      all common:True  | exactly common :True  | maximum difference:0.0\n",
      "dbndiff         all common:True  | exactly common :True  | maximum difference:0.0\n",
      "dbnvar          all common:True  | exactly common :True  | maximum difference:0.0\n",
      "dbndiff2        all common:True  | exactly common :True  | maximum difference:0.0\n",
      "dhprebn         all common:True  | exactly common :True  | maximum difference:0.0\n",
      "dbnmeani        all common:True  | exactly common :True  | maximum difference:0.0\n",
      "dembcat         all common:True  | exactly common :True  | maximum difference:0.0\n",
      "dembcat         all common:True  | exactly common :True  | maximum difference:0.0\n",
      "db1             all common:True  | exactly common :True  | maximum difference:0.0\n",
      "demb            all common:True  | exactly common :True  | maximum difference:0.0\n",
      "dC              all common:True  | exactly common :True  | maximum difference:0.0\n"
     ]
    }
   ],
   "source": [
    "dlogprobs = torch.zeros_like(logprobs)\n",
    "dlogprobs[range(n), Yb] = -1.0/n\n",
    "dprobs = (1.0 / probs) * dlogprobs\n",
    "dcounts_sum_inv = (counts * dprobs).sum(1, keepdim=True)\n",
    "dcounts = counts_sum_inv * dprobs\n",
    "dcounts_sum = (-counts_sum**-2) * dcounts_sum_inv\n",
    "dcounts += torch.ones_like(counts) * dcounts_sum\n",
    "dnorm_logits = counts * dcounts\n",
    "dlogits = dnorm_logits.clone()\n",
    "dlogit_maxes = (-dnorm_logits).sum(1, keepdim=True)\n",
    "dlogits += F.one_hot(logits.max(1).indices, num_classes=logits.shape[1]) * dlogit_maxes\n",
    "dh = dlogits @ W2.T\n",
    "dW2 = h.T @ dlogits\n",
    "db2 = dlogits.sum(0)\n",
    "dhpreact = (1-h**2)*dh\n",
    "dbnraw = bngain*dhpreact\n",
    "dbngain = (bnraw*dhpreact).sum(0 , keepdim=True)\n",
    "dbnbias = dhpreact.sum(0 , keepdim=True)\n",
    "dbnvar_inv = (bndiff*dbnraw).sum(0 , keepdim=True)\n",
    "dbndiff = bnvar_inv*dbnraw\n",
    "dbnvar = (-0.5*(bnvar + 1e-5)**-1.5)*dbnvar_inv\n",
    "dbndiff2 = 1/(n-1)*torch.ones_like(bndiff2)*dbnvar\n",
    "dbndiff += 2*bndiff*dbndiff2\n",
    "dhprebn = dbndiff.clone()\n",
    "dbnmeani= -dbndiff.clone().sum(0 , keepdim=True)\n",
    "dhprebn += 1/n*torch.ones_like(hprebn)*dbnmeani\n",
    "dembcat = dhprebn @ W1.T\n",
    "dW1 = embcat.T @ dhprebn\n",
    "db1 = dhprebn.sum(0)\n",
    "demb = dembcat.view(emb.shape)\n",
    "dC=torch.zeros_like(C)\n",
    "for k in range(Xb.shape[0]):\n",
    "    for j in range(Xb.shape[1]):\n",
    "        ix = Xb[k,j]\n",
    "        dC[ix] += demb[k,j]\n",
    "\n",
    "\n",
    "common(dlogprobs , logprobs, 'dlogprobs')\n",
    "common(dprobs , probs , 'dprobs')\n",
    "common(dcounts_sum_inv , counts_sum_inv , 'dcounts_sum_inv')\n",
    "common(dcounts,counts,'dcounts')\n",
    "common(dcounts_sum , counts_sum , 'dcounts_sum')\n",
    "common(dnorm_logits , norm_logits , 'dnorm_logits' )\n",
    "common(dlogits , logits , 'dlogits' )\n",
    "common(dlogit_maxes , logit_maxes , 'dlogit_maxes' )\n",
    "common(dh, h , 'dh')\n",
    "common(dW2 , W2 , 'dW2')\n",
    "common(db2, b2 , 'db2')\n",
    "common(dhpreact , hpreact , 'dhpreact')\n",
    "common(dbnraw , bnraw , 'dbnraw')\n",
    "common(dbngain , bngain , 'dbngain')\n",
    "common(dbnbias , bnbias , 'dbnbias')\n",
    "common( dbnvar_inv , bnvar_inv , 'dbnvar_inv')\n",
    "common(dbndiff , bndiff , 'dbndiff')\n",
    "common(dbnvar , bnvar , 'dbnvar')\n",
    "common(dbndiff2 , bndiff2 , 'dbndiff2')\n",
    "common(dhprebn , hprebn , 'dhprebn')\n",
    "common(dbnmeani , bnmeani , 'dbnmeani')\n",
    "common(dembcat , embcat , 'dembcat')\n",
    "common(dembcat , embcat , 'dembcat')\n",
    "common(db1 , b1 , 'db1')\n",
    "common(demb , emb , 'demb')\n",
    "common(dC , C , 'dC')"
   ]
  },
  {
   "cell_type": "code",
   "execution_count": 41,
   "id": "279801c4-b2ea-4c16-be12-51b217953239",
   "metadata": {},
   "outputs": [],
   "source": [
    "batch_size = 32\n",
    "n = batch_size \n",
    "lossi = []\n",
    "iterations = 200000\n",
    "for i in range(iterations):\n",
    "    ix = torch.randint(0, Xtrain.shape[0], (batch_size,), generator=g)\n",
    "    Xb, Yb = Xtrain[ix], Ytrain[ix]\n",
    "    emb = C[Xb]\n",
    "    embcat = emb.view(emb.shape[0], -1)\n",
    "    \n",
    "    \n",
    "    # Linear layer 1\n",
    "    hprebn = embcat @ W1 + b1\n",
    "    \n",
    "    # BatchNorm layer\n",
    "    bnmeani = 1/n*hprebn.sum(0, keepdim=True)\n",
    "    bndiff = hprebn - bnmeani\n",
    "    bndiff2 = bndiff**2\n",
    "    bnvar = 1/(n-1)*(bndiff2).sum(0, keepdim=True)\n",
    "    bnvar_inv = (bnvar + 1e-5)**-0.5\n",
    "    bnraw = bndiff * bnvar_inv\n",
    "    hpreact = bngain * bnraw + bnbias\n",
    "    \n",
    "    # Non-linearity\n",
    "    h = torch.tanh(hpreact) # hidden layer\n",
    "    \n",
    "    # Linear layer 2\n",
    "    logits = h @ W2 + b2 # output layer\n",
    "    \n",
    "    # cross entropy loss (same as F.cross_entropy(logits, Yb))\n",
    "    logit_maxes = logits.max(1, keepdim=True).values\n",
    "    norm_logits = logits - logit_maxes # subtract max for numerical stability\n",
    "    counts = norm_logits.exp()\n",
    "    counts_sum = counts.sum(1, keepdims=True)\n",
    "    counts_sum_inv = counts_sum**-1\n",
    "    probs = counts * counts_sum_inv\n",
    "    logprobs = probs.log()\n",
    "    loss = -logprobs[range(n), Yb].mean()\n",
    "    lossi.append(loss)\n",
    "\n",
    "    # PyTorch backward pass\n",
    "    for p in parameters:\n",
    "        p.grad = None\n",
    "    for t in [logprobs, probs, counts, counts_sum, counts_sum_inv, # afaik there is no cleaner way\n",
    "        norm_logits, logit_maxes, logits, h, hpreact, bnraw,bnvar_inv, bnvar, bndiff2, bndiff, hprebn, bnmeani,embcat, emb]:\n",
    "         t.retain_grad()\n",
    "#     dlogprobs = torch.zeros_like(logprobs)\n",
    "#     dlogprobs[range(n), Yb] = -1.0/n\n",
    "#     dprobs = (1.0 / probs) * dlogprobs\n",
    "#     dcounts_sum_inv = (counts * dprobs).sum(1, keepdim=True)\n",
    "#     dcounts = counts_sum_inv * dprobs\n",
    "#     dcounts_sum = (-counts_sum**-2) * dcounts_sum_inv\n",
    "#     dcounts += torch.ones_like(counts) * dcounts_sum\n",
    "#     dnorm_logits = counts * dcounts\n",
    "#     dlogits = dnorm_logits.clone()\n",
    "#     dlogit_maxes = (-dnorm_logits).sum(1, keepdim=True)\n",
    "#     dlogits += F.one_hot(logits.max(1).indices, num_classes=logits.shape[1]) * dlogit_maxes\n",
    "#     dh = dlogits @ W2.T\n",
    "#     dW2 = h.T @ dlogits\n",
    "#     db2 = dlogits.sum(0)\n",
    "#     dhpreact = (1-h**2)*dh\n",
    "#     dbnraw = bngain*dhpreact\n",
    "#     dbngain = (bnraw*dhpreact).sum(0 , keepdim=True)\n",
    "#     dbnbias = dhpreact.sum(0 , keepdim=True)\n",
    "#     dbnvar_inv = (bndiff*dbnraw).sum(0 , keepdim=True)\n",
    "#     dbndiff = bnvar_inv*dbnraw\n",
    "#     dbnvar = (-0.5*(bnvar + 1e-5)**-1.5)*dbnvar_inv\n",
    "#     dbndiff2 = 1/(n-1)*torch.ones_like(bndiff2)*dbnvar\n",
    "#     dbndiff += 2*bndiff*dbndiff2\n",
    "#     dhprebn = dbndiff.clone()\n",
    "#     dbnmeani= -dbndiff.clone().sum(0 , keepdim=True)\n",
    "#     dhprebn += 1/n*torch.ones_like(hprebn)*dbnmeani\n",
    "#     dembcat = dhprebn @ W1.T\n",
    "#     dW1 = embcat.T @ dhprebn\n",
    "#     db1 = dhprebn.sum(0)\n",
    "#     demb = dembcat.view(emb.shape)\n",
    "#     dC=torch.zeros_like(C)\n",
    "#     for k in range(Xb.shape[0]):\n",
    "#         for j in range(Xb.shape[1]):\n",
    "#             ix = Xb[k,j]\n",
    "#             dC[ix] += demb[k,j]\n",
    "\n",
    "#     d_param=[dC, dW1, dW2, db2, db1, dbngain, dbnbias]\n",
    "#     for p , dp in zip(parameters , d_param):\n",
    "#         p.data += -0.1*dp\n",
    "    loss.backward()\n",
    "    for p in parameters:\n",
    "             p.data += -1*p.grad"
   ]
  },
  {
   "cell_type": "code",
   "execution_count": 42,
   "id": "d33aa3a0-b8c1-48fb-94a2-404c361c2c1d",
   "metadata": {},
   "outputs": [
    {
     "data": {
      "text/plain": [
       "tensor(2.4347, grad_fn=<NegBackward0>)"
      ]
     },
     "execution_count": 42,
     "metadata": {},
     "output_type": "execute_result"
    }
   ],
   "source": [
    "lossi[-1]"
   ]
  },
  {
   "cell_type": "code",
   "execution_count": 43,
   "id": "8cd25d03-0239-4990-96dc-e3907bae5e93",
   "metadata": {},
   "outputs": [
    {
     "name": "stdout",
     "output_type": "stream",
     "text": [
      "AAKKltPDGPewvaImznJGHqigBRCjPRGKIOQAn.\n",
      "HKHQuNDCMQRLCIsflBOdjle.\n",
      "AKQCOKQFixkatLGFlJGQuRKGQCOBExgeLLOQQFixkam.\n",
      "NPFicDIgggfoGLAxtE.\n",
      "KAQuJQEqflMLQCBaffeLFleaQCJakfiKRGBCMKjoQuigon.\n",
      "GKFPLCjou.\n",
      "LACQHKaotLGGQCKjoBKitBBBjonagdQHKi.\n",
      "CAMFann.\n",
      "FPBFujNCartPEnjar.\n",
      "AKQCDBMcjMCasMFinALGLQKitGCIKDlDCQPigk.\n",
      "FPCjowtNALLMPjaqr.\n",
      "EaQor.\n",
      "GAFCOOzlvaQrigaInkmadrHBujPAnflCNourEgon.\n",
      "HCQInjo.\n",
      "AGQBMjon.\n",
      "AKQCIaz.\n",
      "LGMQNicRAnhPHatMBMotGKKOQQJacqDCLCLGKjhjBGu.\n",
      "AInFlaiqFinKDDAKQGisHCBenKQuJGQuLGDBCHNewclARGLPBatOAIlQBagcRIlQBigheHGHunjPCasEm.\n",
      "EsQF ajcEnfoDLGEsKHHckilEnQPapplJttEBQuBGElQCDaveQNan.\n",
      "HInQBLjoAOAMRKCQCHatKACQBitQPKattPEnjo.\n"
     ]
    }
   ],
   "source": [
    "g=torch.Generator().manual_seed(123456789)\n",
    "\n",
    "for i in range(20):\n",
    "    out=[]\n",
    "    context=[0]*block_size\n",
    "    while True:\n",
    "        emb = C[torch.tensor([context])]\n",
    "        embcat = emb.view(emb.shape[0] , -1)\n",
    "        hpreact = embcat @ W1 + b1\n",
    "        # hpreact = bngain * (hpreact - bnmeani) * (bnvar + 1e-5)**-0.5 + bnbias\n",
    "        h = torch.tanh(hpreact)\n",
    "        logits = h @ W2 + b2 \n",
    "        probs= F.softmax(logits , dim = 1)\n",
    "        ix = torch.multinomial(probs , num_samples=1 , generator=g).item()\n",
    "        context = context[1:]+[ix]\n",
    "        out.append(ix)\n",
    "        if ix==0:\n",
    "            break\n",
    "    print(''.join(itos[i] for i in out))\n",
    "        \n",
    "        "
   ]
  },
  {
   "cell_type": "code",
   "execution_count": null,
   "id": "f52f6166-049a-4bfd-a783-459ae1d2a2ca",
   "metadata": {},
   "outputs": [],
   "source": []
  },
  {
   "cell_type": "code",
   "execution_count": null,
   "id": "070651c8-7ed5-4e8a-bd09-086bf182b5f7",
   "metadata": {},
   "outputs": [],
   "source": []
  },
  {
   "cell_type": "code",
   "execution_count": null,
   "id": "326e9344-cb67-4f2c-9998-d2422c48e4c6",
   "metadata": {},
   "outputs": [],
   "source": []
  }
 ],
 "metadata": {
  "kernelspec": {
   "display_name": "Python 3 (ipykernel)",
   "language": "python",
   "name": "python3"
  },
  "language_info": {
   "codemirror_mode": {
    "name": "ipython",
    "version": 3
   },
   "file_extension": ".py",
   "mimetype": "text/x-python",
   "name": "python",
   "nbconvert_exporter": "python",
   "pygments_lexer": "ipython3",
   "version": "3.11.5"
  }
 },
 "nbformat": 4,
 "nbformat_minor": 5
}
